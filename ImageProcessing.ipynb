{
  "nbformat": 4,
  "nbformat_minor": 0,
  "metadata": {
    "colab": {
      "provenance": [],
      "authorship_tag": "ABX9TyOBMZwJba0CXuw23epsRvUv",
      "include_colab_link": true
    },
    "kernelspec": {
      "name": "python3",
      "display_name": "Python 3"
    },
    "language_info": {
      "name": "python"
    }
  },
  "cells": [
    {
      "cell_type": "markdown",
      "metadata": {
        "id": "view-in-github",
        "colab_type": "text"
      },
      "source": [
        "<a href=\"https://colab.research.google.com/github/masonritchotte/SoilRegression/blob/1-graphtestandrandomforest/ImageProcessing.ipynb\" target=\"_parent\"><img src=\"https://colab.research.google.com/assets/colab-badge.svg\" alt=\"Open In Colab\"/></a>"
      ]
    },
    {
      "cell_type": "code",
      "execution_count": 44,
      "metadata": {
        "id": "oiDcSBVi0OGa"
      },
      "outputs": [],
      "source": [
        "# Import necessary libraries\n",
        "import numpy as np\n",
        "import pandas as pd\n",
        "import cv2\n",
        "import matplotlib.pyplot as plt\n",
        "from sklearn.linear_model import LinearRegression\n",
        "from sklearn.svm import SVR\n",
        "from sklearn.model_selection import train_test_split\n",
        "from sklearn.metrics import mean_squared_error\n",
        "from sklearn.model_selection import GridSearchCV\n",
        "from sklearn.ensemble import RandomForestRegressor\n",
        "from google.colab import files\n",
        "import os\n",
        "import zipfile\n",
        "from PIL import Image\n",
        "import shutil\n",
        "\n",
        "\n",
        "os.environ['KAGGLE_CONFIG_DIR'] = \"/content\""
      ]
    },
    {
      "cell_type": "code",
      "source": [
        "!kaggle datasets download -d masonritchotte/soil-sample-carbon-regression"
      ],
      "metadata": {
        "colab": {
          "base_uri": "https://localhost:8080/"
        },
        "id": "vu-YHbRnG4x6",
        "outputId": "56bb3d86-412a-4c1c-cc1b-9eac866944e3"
      },
      "execution_count": 2,
      "outputs": [
        {
          "output_type": "stream",
          "name": "stdout",
          "text": [
            "Warning: Your Kaggle API key is readable by other users on this system! To fix this, you can run 'chmod 600 /content/kaggle.json'\n",
            "Downloading soil-sample-carbon-regression.zip to /content\n",
            " 99% 287M/291M [00:05<00:00, 44.5MB/s]\n",
            "100% 291M/291M [00:05<00:00, 53.2MB/s]\n"
          ]
        }
      ]
    },
    {
      "cell_type": "code",
      "source": [
        "zip_ref = zipfile.ZipFile('soil-sample-carbon-regression.zip', 'r') #Opens the zip file in read mode\n",
        "zip_ref.extractall('/content/goo') #Extracts the files into the /tmp folder\n",
        "zip_ref.close()"
      ],
      "metadata": {
        "id": "Q2I99lBpHDaN"
      },
      "execution_count": 3,
      "outputs": []
    },
    {
      "cell_type": "code",
      "source": [
        "def get_time_taken(image_path):\n",
        "    \"\"\"\n",
        "    Extracts the time taken from the image EXIF data.\n",
        "    \"\"\"\n",
        "    with Image.open(image_path) as img:\n",
        "        exif_data = img._getexif()\n",
        "        # EXIF Tags: https://www.exiv2.org/tags.html\n",
        "        # 36867 is the tag for DateTimeOriginal\n",
        "        time_taken = exif_data.get(36867) if exif_data else '0000:00:00 00:00:00'\n",
        "        return time_taken\n"
      ],
      "metadata": {
        "id": "dHcU2181L_BW"
      },
      "execution_count": 6,
      "outputs": []
    },
    {
      "cell_type": "code",
      "source": [
        "# Replace 'your_carbon_data.txt' with the path to your actual text file\n",
        "carbon_data_file_path = '/content/carbondata.txt'  # Update with your file path\n",
        "\n",
        "# Initialize an empty list to store the carbon data\n",
        "carbon_data = []\n",
        "\n",
        "# Open the file and read the lines\n",
        "with open(carbon_data_file_path, 'r') as file:\n",
        "    for line in file:\n",
        "        # Convert each line to a float and append to the list\n",
        "        # You might need to adjust the conversion depending on the format of your numbers\n",
        "        carbon_data.append(float(line.strip()))\n",
        "\n",
        "print(carbon_data)  # This will print out the list of carbon data\n"
      ],
      "metadata": {
        "id": "qdDt10rJX7go",
        "outputId": "7a215222-92c1-422b-f686-d362a402885d",
        "colab": {
          "base_uri": "https://localhost:8080/"
        }
      },
      "execution_count": 7,
      "outputs": [
        {
          "output_type": "stream",
          "name": "stdout",
          "text": [
            "[7.031554344, 3.964311551, 4.056773071, 0.9126810004, 0.6960307436, 0.2506006665, 0.0, 3.237992445, 2.337853183, 2.343648841, 0.7061660351, 0.6086380768, 0.4231493666, 0.2130257449, 3.335775061, 2.496328928, 2.193573979, 0.6180469716, 0.252476742, 0.1667946308, 0.1376720901, 3.909415971, 3.20750435, 2.886914159, 0.7854783647, 0.459141842, 0.2700636943, 4.732968162, 3.208573464, 3.190376569, 0.9107418752, 0.4050530366, 0.2483817552, 0.2089194685, 2.805161836, 1.793886891, 1.664405246, 0.6572029443, 0.2751137737, 0.2194896205, 0.2060262683, 6.721915285, 1.737633704, 0.8082622362, 5.030954708, 5.345057977, 1.565592414, 0.5872953286, 0.3538600054, 0.2766272189, 10.77628316, 6.469539688, 4.543040603, 1.207888611, 0.4921092822, 0.2789907812, 0.2752313941, 10.14722681, 6.609356507, 5.189678813, 0.9488408491, 0.475505136, 8.747855918, 2.805649042, 1.719393259, 0.4983455734, 0.3550038114, 0.2271657491, 0.2410333532, 8.877070976, 2.414188239, 1.5943154, 0.7772972091, 0.5295955986, 0.3411564026, 19.45659489, 5.857052498, 3.314152209, 0.8958345108, 0.5215159458, 0.3944773176, 0.2822045153, 9.251728345, 3.753917667, 3.130043319, 1.056321996, 0.7265447511, 0.4708119767, 3.792445631, 1.829307158, 2.639056832, 0.683836736, 0.3280168522, 0.3030831625, 0.2093861679, 5.884748524, 3.938851398, 3.14162539, 0.7950299765, 0.5284997626]\n"
          ]
        }
      ]
    },
    {
      "cell_type": "code",
      "source": [
        "# Code to upload files\n",
        "image_directory = '/content/goo'\n",
        "\n",
        "images_with_time = []\n",
        "for filename in os.listdir(image_directory):\n",
        "    if filename.lower().endswith(('.jpg', '.jpeg', '.png')):\n",
        "        image_path = os.path.join(image_directory, filename)\n",
        "        time_taken = get_time_taken(image_path)\n",
        "        images_with_time.append((image_path, time_taken))\n",
        "\n",
        "# Sort images based on time taken\n",
        "images_with_time.sort(key=lambda x: x[1])\n",
        "\n",
        "# Rename images sequentially\n",
        "for i, (image_path, _) in enumerate(images_with_time, start=1):\n",
        "    new_name = f\"Image{i}.JPG\"  # Change the extension if needed\n",
        "    new_path = os.path.join(image_directory, new_name)\n",
        "    shutil.move(image_path, new_path)\n",
        "\n",
        "# Load images\n",
        "images = {}\n",
        "for filename in os.listdir(image_directory):\n",
        "    image_path = os.path.join(image_directory, filename)\n",
        "    if os.path.isfile(image_path):\n",
        "        image = cv2.imread(image_path)\n",
        "        images[filename] = cv2.cvtColor(image, cv2.COLOR_BGR2RGB)"
      ],
      "metadata": {
        "id": "s0o1ljtg565i"
      },
      "execution_count": 9,
      "outputs": []
    },
    {
      "cell_type": "code",
      "source": [
        "def extract_median_rgb(image, center, radius):\n",
        "    \"\"\"\n",
        "    Extract the median RGB values from the center circle of the image.\n",
        "    :param image: Input image\n",
        "    :param center: Center coordinates of the circle\n",
        "    :param radius: Radius of the circle\n",
        "    :return: Median RGB values\n",
        "    \"\"\"\n",
        "    mask = np.zeros(image.shape[:2], dtype=\"uint8\")\n",
        "    cv2.circle(mask, center, radius, 255, -1)\n",
        "    masked = cv2.bitwise_and(image, image, mask=mask)\n",
        "    median_rgb = [np.median(masked[:,:,i][mask==255]) for i in range(3)]\n",
        "    #mask_colored = cv2.cvtColor(mask, cv2.COLOR_GRAY2BGR)\n",
        "\n",
        "    # Create an image that shows the mask as a semi-transparent overlay on the original image\n",
        "    #overlay = cv2.addWeighted(image, 0.7, mask_colored, 0.3, 0)\n",
        "\n",
        "    return median_rgb#, overlay\n",
        "\n",
        "# Example usage (you need to define the center and radius as per your image)\n",
        "# center = (x, y)  # Replace with the center of your circle\n",
        "# radius = r  # Replace with the radius of your circle\n",
        "# median_rgbs = [extract_median_rgb(image, center, radius) for image in images.values()]\n"
      ],
      "metadata": {
        "id": "z5gTOQRU6EMw"
      },
      "execution_count": 33,
      "outputs": []
    },
    {
      "cell_type": "code",
      "source": [
        "centerpoint = (1530, 1300)\n",
        "radius = 150 # 135\n",
        "median_rgbs = [extract_median_rgb(image, centerpoint, radius) for image in images.values()]\n",
        "\n",
        "\n",
        "#for i, (filename, image) in enumerate(images.items()):\n",
        "#    median_rgb, overlay_image = extract_median_rgb(image, centerpoint, radius)\n",
        "#    plt.figure(figsize=(10, 10))\n",
        "#    plt.imshow(cv2.cvtColor(overlay_image, cv2.COLOR_BGR2RGB))\n",
        "#    plt.title(f\"Overlay for {filename}\")\n",
        "#    plt.show()\n",
        "\n",
        "# Create a DataFrame\n",
        "df = pd.DataFrame(median_rgbs, columns=['Red', 'Green', 'Blue'])\n",
        "df['Carbon'] = carbon_data"
      ],
      "metadata": {
        "id": "DLVmXSBb6JLU"
      },
      "execution_count": 45,
      "outputs": []
    },
    {
      "cell_type": "code",
      "source": [
        "# Split the data into features and target\n",
        "X_train, X_test, y_train, y_test = train_test_split(df[['Red', 'Green', 'Blue']], df['Carbon'], test_size=0.2, random_state=42)\n",
        "\n",
        "# Init range of hyperparameters for grid search\n",
        "parameters = {\n",
        "    'kernel': ['rbf'],\n",
        "    'C': [1e2, 1e3, 1e4, 1e5],\n",
        "    'gamma': [0.001, 0.0001],\n",
        "    'epsilon': [0.1, 0.2, 0.3, 0.5]\n",
        "}\n",
        "\n",
        "#svr = SVR()\n",
        "\n",
        "# Initialize Grid Search with cross-validation\n",
        "#grid_search = GridSearchCV(svr, parameters, cv=5, scoring='neg_mean_squared_error')\n",
        "\n",
        "# Fit Grid Search on the training data\n",
        "#grid_search.fit(X_train, y_train)\n",
        "\n",
        "# Get the best model\n",
        "#best_model = grid_search.best_estimator_\n",
        "\n",
        "random_forest_model = RandomForestRegressor(n_estimators=100, random_state=42)\n",
        "random_forest_model.fit(X_train, y_train)\n",
        "\n",
        "predictions = random_forest_model.predict(X_test)\n",
        "\n",
        "mse_test = mean_squared_error(y_test, predictions)\n",
        "\n",
        "#print(f\"Test Mean Squared Error with best model: {mse_test}\")\n",
        "\n",
        "# Display the best hyperparameters\n",
        "#print(f\"Best hyperparameters: {grid_search.best_params_}\")\n",
        "\n",
        "# View a single prediction\n",
        "# For example, we can predict the carbon content for the first test sample\n",
        "# single_prediction = model.predict(X_test.iloc[[0]])\n",
        "# print(f\"Actual carbon content for first test sample: {y_test.iloc[0]}\")\n",
        "# print(f\"Predicted carbon content for first test sample: {single_prediction[0]}\")\n",
        "comparison_df = pd.DataFrame({'Actual Carbon': y_test, 'Predicted Carbon': predictions})\n",
        "comparison_df = comparison_df.reset_index(drop=True)\n",
        "print(comparison_df)"
      ],
      "metadata": {
        "id": "jWjO9qiT6MY0",
        "outputId": "47f12e2b-c095-4799-d69a-bac9f6009373",
        "colab": {
          "base_uri": "https://localhost:8080/"
        }
      },
      "execution_count": 46,
      "outputs": [
        {
          "output_type": "stream",
          "name": "stdout",
          "text": [
            "    Actual Carbon  Predicted Carbon\n",
            "0        3.753918          2.535533\n",
            "1        1.207889          2.719154\n",
            "2        2.414188          1.577309\n",
            "3        5.345058          3.532456\n",
            "4        5.030955          0.440131\n",
            "5        0.219490          2.635789\n",
            "6        3.207504          2.785447\n",
            "7        0.394477          1.812552\n",
            "8        0.706166          1.736194\n",
            "9        7.031554          3.941081\n",
            "10       0.252477          7.004839\n",
            "11       0.910742          0.866512\n",
            "12       0.529596          5.481398\n",
            "13       0.208919          3.817686\n",
            "14       2.639057          1.449907\n",
            "15       0.696031          0.669687\n",
            "16       5.857052          1.319579\n",
            "17       3.314152          8.624177\n",
            "18       0.423149          0.773157\n",
            "19       0.405053          8.410260\n"
          ]
        }
      ]
    }
  ]
}