{
  "nbformat": 4,
  "nbformat_minor": 0,
  "metadata": {
    "colab": {
      "provenance": [],
      "authorship_tag": "ABX9TyOKn9xER+4RANEdq4h9exI5",
      "include_colab_link": true
    },
    "kernelspec": {
      "name": "python3",
      "display_name": "Python 3"
    },
    "language_info": {
      "name": "python"
    }
  },
  "cells": [
    {
      "cell_type": "markdown",
      "metadata": {
        "id": "view-in-github",
        "colab_type": "text"
      },
      "source": [
        "<a href=\"https://colab.research.google.com/github/masonritchotte/SoilRegression/blob/main/ImageProcessing.ipynb\" target=\"_parent\"><img src=\"https://colab.research.google.com/assets/colab-badge.svg\" alt=\"Open In Colab\"/></a>"
      ]
    },
    {
      "cell_type": "code",
      "execution_count": 1,
      "metadata": {
        "id": "oiDcSBVi0OGa"
      },
      "outputs": [],
      "source": [
        "# Import necessary libraries\n",
        "import numpy as np\n",
        "import pandas as pd\n",
        "import cv2\n",
        "import matplotlib.pyplot as plt\n",
        "from sklearn.linear_model import LinearRegression\n",
        "from sklearn.metrics import mean_squared_error\n",
        "from google.colab import files\n",
        "import os\n",
        "import zipfile\n",
        "\n",
        "\n",
        "os.environ['KAGGLE_CONFIG_DIR'] = \"/content\""
      ]
    },
    {
      "cell_type": "code",
      "source": [
        "!kaggle datasets download -d masonritchotte/soil-sample-carbon-regression"
      ],
      "metadata": {
        "colab": {
          "base_uri": "https://localhost:8080/"
        },
        "id": "vu-YHbRnG4x6",
        "outputId": "9b23833c-7225-4360-cdde-3c84bbe35728"
      },
      "execution_count": 2,
      "outputs": [
        {
          "output_type": "stream",
          "name": "stdout",
          "text": [
            "Warning: Your Kaggle API key is readable by other users on this system! To fix this, you can run 'chmod 600 /content/kaggle.json'\n",
            "Downloading soil-sample-carbon-regression.zip to /content\n",
            " 97% 281M/291M [00:02<00:00, 110MB/s]\n",
            "100% 291M/291M [00:02<00:00, 116MB/s]\n"
          ]
        }
      ]
    },
    {
      "cell_type": "code",
      "source": [
        "zip_ref = zipfile.ZipFile('soil-sample-carbon-regression.zip', 'r') #Opens the zip file in read mode\n",
        "zip_ref.extractall('/content/goo') #Extracts the files into the /tmp folder\n",
        "zip_ref.close()"
      ],
      "metadata": {
        "id": "Q2I99lBpHDaN"
      },
      "execution_count": 3,
      "outputs": []
    },
    {
      "cell_type": "code",
      "source": [
        "# Code to upload files\n",
        "image_directory = '/content/goo'\n",
        "\n",
        "# Load images\n",
        "images = {}\n",
        "for filename in os.listdir(image_directory):\n",
        "    image_path = os.path.join(image_directory, filename)\n",
        "    image = cv2.imread(image_path)\n",
        "    images[filename] = cv2.cvtColor(image, cv2.COLOR_BGR2RGB)"
      ],
      "metadata": {
        "id": "s0o1ljtg565i"
      },
      "execution_count": 4,
      "outputs": []
    },
    {
      "cell_type": "code",
      "source": [
        "def extract_median_rgb(image, center, radius):\n",
        "    \"\"\"\n",
        "    Extract the median RGB values from the center circle of the image.\n",
        "    :param image: Input image\n",
        "    :param center: Center coordinates of the circle\n",
        "    :param radius: Radius of the circle\n",
        "    :return: Median RGB values\n",
        "    \"\"\"\n",
        "    mask = np.zeros(image.shape[:2], dtype=\"uint8\")\n",
        "    cv2.circle(mask, center, radius, 255, -1)\n",
        "    masked = cv2.bitwise_and(image, image, mask=mask)\n",
        "    median_rgb = [np.median(masked[:,:,i][mask==255]) for i in range(3)]\n",
        "    return median_rgb\n",
        "\n",
        "# Example usage (you need to define the center and radius as per your image)\n",
        "# center = (x, y)  # Replace with the center of your circle\n",
        "# radius = r  # Replace with the radius of your circle\n",
        "# median_rgbs = [extract_median_rgb(image, center, radius) for image in images.values()]\n"
      ],
      "metadata": {
        "id": "z5gTOQRU6EMw"
      },
      "execution_count": null,
      "outputs": []
    },
    {
      "cell_type": "code",
      "source": [
        "# Replace this with your actual carbon data\n",
        "carbon_data = [10, 20, 30]  # etc.\n",
        "\n",
        "# Create a DataFrame\n",
        "df = pd.DataFrame(median_rgbs, columns=['Red', 'Green', 'Blue'])\n",
        "df['Carbon'] = carbon_data"
      ],
      "metadata": {
        "id": "DLVmXSBb6JLU"
      },
      "execution_count": null,
      "outputs": []
    },
    {
      "cell_type": "code",
      "source": [
        "# Initialize the model\n",
        "model = LinearRegression()\n",
        "\n",
        "# Split the data into features and target\n",
        "X = df[['Red', 'Green', 'Blue']]\n",
        "y = df['Carbon']"
      ],
      "metadata": {
        "id": "jWjO9qiT6MY0"
      },
      "execution_count": null,
      "outputs": []
    },
    {
      "cell_type": "code",
      "source": [
        "# Fit the model\n",
        "model.fit(X, y)"
      ],
      "metadata": {
        "id": "SjiWLXqU6Nmz"
      },
      "execution_count": null,
      "outputs": []
    },
    {
      "cell_type": "code",
      "source": [
        "# Predictions\n",
        "predictions = model.predict(X)\n",
        "\n",
        "# Evaluate the model\n",
        "mse = mean_squared_error(y, predictions)\n",
        "print(f\"Mean Squared Error: {mse}\")\n"
      ],
      "metadata": {
        "id": "1UhBWoir6Qk_"
      },
      "execution_count": null,
      "outputs": []
    }
  ]
}