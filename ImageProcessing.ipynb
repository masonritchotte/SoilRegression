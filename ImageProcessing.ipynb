{
  "nbformat": 4,
  "nbformat_minor": 0,
  "metadata": {
    "colab": {
      "provenance": [],
      "authorship_tag": "ABX9TyNZOP+gVUbG6PlNwfHT7Ijp",
      "include_colab_link": true
    },
    "kernelspec": {
      "name": "python3",
      "display_name": "Python 3"
    },
    "language_info": {
      "name": "python"
    }
  },
  "cells": [
    {
      "cell_type": "markdown",
      "metadata": {
        "id": "view-in-github",
        "colab_type": "text"
      },
      "source": [
        "<a href=\"https://colab.research.google.com/github/masonritchotte/SoilRegression/blob/2-nitrogenitwork/ImageProcessing.ipynb\" target=\"_parent\"><img src=\"https://colab.research.google.com/assets/colab-badge.svg\" alt=\"Open In Colab\"/></a>"
      ]
    },
    {
      "cell_type": "code",
      "execution_count": 1,
      "metadata": {
        "id": "oiDcSBVi0OGa"
      },
      "outputs": [],
      "source": [
        "# Import necessary libraries\n",
        "import numpy as np\n",
        "import pandas as pd\n",
        "import cv2\n",
        "import matplotlib.pyplot as plt\n",
        "from sklearn.linear_model import LinearRegression\n",
        "from sklearn.svm import SVR\n",
        "from sklearn.model_selection import train_test_split, RandomizedSearchCV\n",
        "from sklearn.metrics import mean_squared_error\n",
        "from sklearn.model_selection import GridSearchCV\n",
        "from sklearn.ensemble import RandomForestRegressor\n",
        "from google.colab import files\n",
        "import os\n",
        "import zipfile\n",
        "from PIL import Image\n",
        "import shutil\n",
        "\n",
        "\n",
        "os.environ['KAGGLE_CONFIG_DIR'] = \"/content\""
      ]
    },
    {
      "cell_type": "code",
      "source": [
        "!kaggle datasets download -d bnneett/soilstuffpp"
      ],
      "metadata": {
        "colab": {
          "base_uri": "https://localhost:8080/"
        },
        "id": "vu-YHbRnG4x6",
        "outputId": "68a9b237-28c0-4509-c682-4a938547672d"
      },
      "execution_count": 3,
      "outputs": [
        {
          "output_type": "stream",
          "name": "stdout",
          "text": [
            "Warning: Your Kaggle API key is readable by other users on this system! To fix this, you can run 'chmod 600 /content/kaggle.json'\n",
            "Downloading soilstuffpp.zip to /content\n",
            " 92% 118M/129M [00:01<00:00, 76.0MB/s]\n",
            "100% 129M/129M [00:01<00:00, 83.8MB/s]\n"
          ]
        }
      ]
    },
    {
      "cell_type": "code",
      "source": [
        "zip_ref = zipfile.ZipFile('soilstuffpp.zip', 'r') #Opens the zip file in read mode\n",
        "zip_ref.extractall('/content/') #Extracts the files into the /tmp folder\n",
        "zip_ref.close()"
      ],
      "metadata": {
        "id": "Q2I99lBpHDaN"
      },
      "execution_count": 12,
      "outputs": []
    },
    {
      "cell_type": "code",
      "source": [
        "!rm -r /content/goo/"
      ],
      "metadata": {
        "id": "5qDep1YRp-KP"
      },
      "execution_count": 11,
      "outputs": []
    },
    {
      "cell_type": "code",
      "source": [
        "# Replace 'your_carbon_data.txt' with the path to your actual text file\n",
        "carbon_data_file_path = '/content/carbondata.txt'  # Update with your file path\n",
        "\n",
        "# Initialize an empty list to store the carbon data\n",
        "carbon_data = []\n",
        "\n",
        "# Open the file and read the lines\n",
        "with open(carbon_data_file_path, 'r') as file:\n",
        "    for line in file:\n",
        "        # Convert each line to a float and append to the list\n",
        "        # You might need to adjust the conversion depending on the format of your numbers\n",
        "        carbon_data.append(float(line.strip()))\n",
        "\n",
        "print(carbon_data)  # This will print out the list of carbon data\n"
      ],
      "metadata": {
        "colab": {
          "base_uri": "https://localhost:8080/"
        },
        "id": "qdDt10rJX7go",
        "outputId": "12db77a4-3be7-4593-dced-e5f810cba509"
      },
      "execution_count": 6,
      "outputs": [
        {
          "output_type": "stream",
          "name": "stdout",
          "text": [
            "[7.031554344, 3.964311551, 4.056773071, 0.9126810004, 0.6960307436, 0.2506006665, 0.0, 3.237992445, 2.337853183, 2.343648841, 0.7061660351, 0.6086380768, 0.4231493666, 0.2130257449, 3.335775061, 2.496328928, 2.193573979, 0.6180469716, 0.252476742, 0.1667946308, 0.1376720901, 3.909415971, 3.20750435, 2.886914159, 0.7854783647, 0.459141842, 0.2700636943, 4.732968162, 3.208573464, 3.190376569, 0.9107418752, 0.4050530366, 0.2483817552, 0.2089194685, 2.805161836, 1.793886891, 1.664405246, 0.6572029443, 0.2751137737, 0.2194896205, 0.2060262683, 6.721915285, 1.737633704, 0.8082622362, 5.030954708, 5.345057977, 1.565592414, 0.5872953286, 0.3538600054, 0.2766272189, 10.77628316, 6.469539688, 4.543040603, 1.207888611, 0.4921092822, 0.2789907812, 0.2752313941, 10.14722681, 6.609356507, 5.189678813, 0.9488408491, 0.475505136, 8.747855918, 2.805649042, 1.719393259, 0.4983455734, 0.3550038114, 0.2271657491, 0.2410333532, 8.877070976, 2.414188239, 1.5943154, 0.7772972091, 0.5295955986, 0.3411564026, 19.45659489, 5.857052498, 3.314152209, 0.8958345108, 0.5215159458, 0.3944773176, 0.2822045153, 9.251728345, 3.753917667, 3.130043319, 1.056321996, 0.7265447511, 0.4708119767, 3.792445631, 1.829307158, 2.639056832, 0.683836736, 0.3280168522, 0.3030831625, 0.2093861679, 5.884748524, 3.938851398, 3.14162539, 0.7950299765, 0.5284997626]\n"
          ]
        }
      ]
    },
    {
      "cell_type": "code",
      "source": [
        "# Replace 'your_carbon_data.txt' with the path to your actual text file\n",
        "nitrogen_data_file_path = '/content/nitrogendata.txt'  # Update with your file path\n",
        "\n",
        "# Initialize an empty list to store the carbon data\n",
        "nitrogen_data = []\n",
        "\n",
        "# Open the file and read the lines\n",
        "with open(nitrogen_data_file_path, 'r') as file:\n",
        "    for line in file:\n",
        "        # Convert each line to a float and append to the list\n",
        "        # You might need to adjust the conversion depending on the format of your numbers\n",
        "        nitrogen_data.append(float(line.strip()))\n",
        "\n",
        "print(nitrogen_data)  # This will print out the list of carbon data\n"
      ],
      "metadata": {
        "id": "evF2Z04nxYmB",
        "outputId": "374439b2-e3b3-4346-a776-d818336dbedd",
        "colab": {
          "base_uri": "https://localhost:8080/"
        }
      },
      "execution_count": 24,
      "outputs": [
        {
          "output_type": "stream",
          "name": "stdout",
          "text": [
            "[0.5064277367, 0.2845430432, 0.2990918484, 0.07313149042, 0.04837279299, 0.01291756013, 0.0, 0.2482460874, 0.1736690936, 0.1683283698, 0.04018831094, 0.03565243965, 0.02580179064, 0.0, 0.264833493, 0.2019089574, 0.1586671956, 0.04377832715, 0.0, 0.0, 0.0, 0.3098927294, 0.2269460625, 0.216518562, 0.05273529657, 0.02732987155, 0.0, 0.3680246491, 0.242828466, 0.2428272564, 0.05963190849, 0.01518948887, 0.0, 0.0, 0.1903955997, 0.1389342923, 0.1085481682, 0.04468980021, 0.01285578382, 0.0, 0.0, 0.3766951281, 0.09425843203, 0.04490345757, 0.3193222548, 0.3276003276, 0.07384869879, 0.02905347915, 0.01884461567, 0.01035502959, 0.6312467123, 0.3512635001, 0.2172548641, 0.07466947775, 0.02121160699, 0.008664309974, 0.0, 0.6155603503, 0.355073818, 0.2700793618, 0.05624572043, 0.02963088385, 0.5844609618, 0.198156827, 0.1342931995, 0.03228149463, 0.01306762496, 0.0, 0.0, 0.5931683371, 0.1823011615, 0.1224099839, 0.06120450465, 0.03742725078, 0.01372468286, 1.043068641, 0.4111321948, 0.2379613205, 0.06499745662, 0.0245740498, 0.0, 0.0, 0.6303375356, 0.25354791, 0.2081032872, 0.07057323681, 0.05173538475, 0.02551197903, 0.2975963373, 0.1402256358, 0.1904474002, 0.04778618155, 0.0150466446, 0.01308272644, 0.01259465672, 0.4683363877, 0.3029885691, 0.2384883508, 0.06299417847, 0.03922459175]\n"
          ]
        }
      ]
    },
    {
      "cell_type": "code",
      "source": [
        "# Directory where the images are located\n",
        "image_directory = '/content/pp/'  # Replace with the directory containing your images\n",
        "\n",
        "# Get a list of filenames in the directory and sort them alphanumerically\n",
        "filenames = sorted(os.listdir(image_directory))\n",
        "\n",
        "# Loop through the sorted filenames\n",
        "for i, filename in enumerate(filenames):\n",
        "    # Construct the new filename\n",
        "    new_filename = f\"{i+1}_pp.jpg\"\n",
        "\n",
        "    # Rename the file\n",
        "    old_filepath = os.path.join(image_directory, filename)\n",
        "    new_filepath = os.path.join(image_directory, new_filename)\n",
        "    os.rename(old_filepath, new_filepath)\n",
        "\n",
        "# Load images\n",
        "images = {}\n",
        "for filename in os.listdir(image_directory):\n",
        "    image_path = os.path.join(image_directory, filename)\n",
        "    if os.path.isfile(image_path):\n",
        "        image = cv2.imread(image_path)\n",
        "        images[filename] = cv2.cvtColor(image, cv2.COLOR_BGR2RGB)"
      ],
      "metadata": {
        "id": "s0o1ljtg565i"
      },
      "execution_count": 14,
      "outputs": []
    },
    {
      "cell_type": "code",
      "source": [
        "def extract_median_rgb(image, center, radius):\n",
        "    \"\"\"\n",
        "    Extract the median RGB values from the center circle of the image.\n",
        "    :param image: Input image\n",
        "    :param center: Center coordinates of the circle\n",
        "    :param radius: Radius of the circle\n",
        "    :return: Median RGB values\n",
        "    \"\"\"\n",
        "    mask = np.zeros(image.shape[:2], dtype=\"uint8\")\n",
        "    cv2.circle(mask, center, radius, 255, -1)\n",
        "    masked = cv2.bitwise_and(image, image, mask=mask)\n",
        "    median_rgb = [np.median(masked[:,:,i][mask==255]) for i in range(3)]\n",
        "    #mask_colored = cv2.cvtColor(mask, cv2.COLOR_GRAY2BGR)\n",
        "\n",
        "    # Create an image that shows the mask as a semi-transparent overlay on the original image\n",
        "    #overlay = cv2.addWeighted(image, 0.7, mask_colored, 0.3, 0)\n",
        "\n",
        "    return median_rgb#, overlay\n",
        "\n",
        "# Example usage (you need to define the center and radius as per your image)\n",
        "# center = (x, y)  # Replace with the center of your circle\n",
        "# radius = r  # Replace with the radius of your circle\n",
        "# median_rgbs = [extract_median_rgb(image, center, radius) for image in images.values()]\n"
      ],
      "metadata": {
        "id": "z5gTOQRU6EMw"
      },
      "execution_count": 18,
      "outputs": []
    },
    {
      "cell_type": "code",
      "source": [
        "centerpoint = (1530, 1300)\n",
        "radius = 250 # 135\n",
        "median_rgbs = [extract_median_rgb(image, centerpoint, radius) for image in images.values()]\n",
        "\n",
        "\n",
        "#for i, (filename, image) in enumerate(images.items()):\n",
        "#    median_rgb, overlay_image = extract_median_rgb(image, centerpoint, radius)\n",
        "#    plt.figure(figsize=(10, 10))\n",
        "#    plt.imshow(cv2.cvtColor(overlay_image, cv2.COLOR_BGR2RGB))\n",
        "#    plt.title(f\"Overlay for {filename}\")\n",
        "#    plt.show()\n",
        "\n",
        "# Create a DataFrame\n",
        "df = pd.DataFrame(median_rgbs, columns=['Red', 'Green', 'Blue'])\n",
        "df['Nitrogen'] = nitrogen_data\n",
        "df['Carbon'] = carbon_data"
      ],
      "metadata": {
        "id": "DLVmXSBb6JLU"
      },
      "execution_count": 25,
      "outputs": []
    },
    {
      "cell_type": "code",
      "source": [
        "# Split the data into training and testing sets\n",
        "X_train, X_test, y_train, y_test = train_test_split(df[['Red', 'Green', 'Blue', 'Nitrogen']], df['Carbon'], test_size=0.2, random_state=42)\n",
        "\n",
        "# Hyperparameter grid to sample from during fitting\n",
        "random_grid = {\n",
        "    'n_estimators': [int(x) for x in np.linspace(start=200, stop=2000, num=10)],\n",
        "    'max_features': ['auto', 'sqrt'],\n",
        "    'max_depth': [int(x) for x in np.linspace(10, 110, num=11)] + [None],\n",
        "    'min_samples_split': [2, 5, 10],\n",
        "    'min_samples_leaf': [1, 2, 4],\n",
        "    'bootstrap': [True, False]\n",
        "}\n",
        "\n",
        "# Initialize the Random Forest Regressor\n",
        "rf = RandomForestRegressor()\n",
        "\n",
        "# Random search of parameters\n",
        "rf_random = RandomizedSearchCV(estimator=rf, param_distributions=random_grid,\n",
        "                               n_iter=20, cv=3, verbose=2, random_state=42, n_jobs=-1)\n",
        "\n",
        "# Fit the random search model\n",
        "rf_random.fit(X_train, y_train)\n",
        "\n",
        "# Get the best model\n",
        "best_random = rf_random.best_estimator_\n",
        "\n",
        "# Predictions on the test set using the best model\n",
        "predictions = best_random.predict(X_test)\n",
        "\n",
        "# Evaluate the model on the test set\n",
        "mse_test = mean_squared_error(y_test, predictions)\n",
        "print(f\"Test Mean Squared Error with best random model: {mse_test}\")\n",
        "\n",
        "# Display the best hyperparameters\n",
        "print(f\"Best hyperparameters: {rf_random.best_params_}\")\n",
        "\n",
        "# Display actual vs predicted values for each point in the test set using the best model\n",
        "comparison_df = pd.DataFrame({'Actual Carbon': y_test, 'Predicted Carbon': predictions})\n",
        "comparison_df = comparison_df.reset_index(drop=True)\n",
        "print(comparison_df)"
      ],
      "metadata": {
        "id": "ns_jMnhisnnj",
        "outputId": "9a22a99a-32bb-4da9-d49d-fd76d96d4272",
        "colab": {
          "base_uri": "https://localhost:8080/"
        }
      },
      "execution_count": 27,
      "outputs": [
        {
          "output_type": "stream",
          "name": "stdout",
          "text": [
            "Fitting 3 folds for each of 20 candidates, totalling 60 fits\n"
          ]
        },
        {
          "output_type": "stream",
          "name": "stderr",
          "text": [
            "/usr/local/lib/python3.10/dist-packages/sklearn/ensemble/_forest.py:413: FutureWarning: `max_features='auto'` has been deprecated in 1.1 and will be removed in 1.3. To keep the past behaviour, explicitly set `max_features=1.0` or remove this parameter as it is also the default value for RandomForestRegressors and ExtraTreesRegressors.\n",
            "  warn(\n"
          ]
        },
        {
          "output_type": "stream",
          "name": "stdout",
          "text": [
            "Test Mean Squared Error with best random model: 0.2986622455688483\n",
            "Best hyperparameters: {'n_estimators': 2000, 'min_samples_split': 2, 'min_samples_leaf': 2, 'max_features': 'auto', 'max_depth': 50, 'bootstrap': False}\n",
            "    Actual Carbon  Predicted Carbon\n",
            "0        3.753918          3.286884\n",
            "1        1.207889          1.632514\n",
            "2        2.414188          2.417091\n",
            "3        5.345058          3.924493\n",
            "4        5.030955          3.924134\n",
            "5        0.219490          0.263686\n",
            "6        3.207504          3.842333\n",
            "7        0.394477          0.252026\n",
            "8        0.706166          0.614871\n",
            "9        7.031554          5.779877\n",
            "10       0.252477          0.224742\n",
            "11       0.910742          0.873991\n",
            "12       0.529596          0.568569\n",
            "13       0.208919          0.277517\n",
            "14       2.639057          2.805405\n",
            "15       0.696031          0.739548\n",
            "16       5.857052          5.779877\n",
            "17       3.314152          3.842333\n",
            "18       0.423149          0.464977\n",
            "19       0.405053          0.322120\n"
          ]
        }
      ]
    },
    {
      "cell_type": "code",
      "source": [
        "# Split the data into features and target\n",
        "X_train, X_test, y_train, y_test = train_test_split(df[['Red', 'Green', 'Blue', 'Nitrogen']], df['Carbon'], test_size=0.2, random_state=42)\n",
        "\n",
        "# Init range of hyperparameters for grid search\n",
        "parameters = {\n",
        "    'kernel': ['rbf'],\n",
        "    'C': [1e2, 1e3, 1e4, 1e5],\n",
        "    'gamma': [0.001, 0.0001],\n",
        "    'epsilon': [0.1, 0.2, 0.3, 0.5]\n",
        "}\n",
        "\n",
        "#svr = SVR()\n",
        "\n",
        "# Initialize Grid Search with cross-validation\n",
        "#grid_search = GridSearchCV(svr, parameters, cv=5, scoring='neg_mean_squared_error')\n",
        "\n",
        "# Fit Grid Search on the training data\n",
        "#grid_search.fit(X_train, y_train)\n",
        "\n",
        "# Get the best model\n",
        "#best_model = grid_search.best_estimator_\n",
        "\n",
        "random_forest_model = RandomForestRegressor(n_estimators=100, random_state=42)\n",
        "random_forest_model.fit(X_train, y_train)\n",
        "\n",
        "predictions = random_forest_model.predict(X_test)\n",
        "\n",
        "mse_test = mean_squared_error(y_test, predictions)\n",
        "\n",
        "#print(f\"Test Mean Squared Error with best model: {mse_test}\")\n",
        "\n",
        "# Display the best hyperparameters\n",
        "#print(f\"Best hyperparameters: {grid_search.best_params_}\")\n",
        "\n",
        "# View a single prediction\n",
        "# For example, we can predict the carbon content for the first test sample\n",
        "# single_prediction = model.predict(X_test.iloc[[0]])\n",
        "# print(f\"Actual carbon content for first test sample: {y_test.iloc[0]}\")\n",
        "# print(f\"Predicted carbon content for first test sample: {single_prediction[0]}\")\n",
        "comparison_df = pd.DataFrame({'Actual Carbon': y_test, 'Predicted Carbon': predictions})\n",
        "comparison_df = comparison_df.reset_index(drop=True)\n",
        "print(comparison_df)"
      ],
      "metadata": {
        "id": "jWjO9qiT6MY0",
        "colab": {
          "base_uri": "https://localhost:8080/"
        },
        "outputId": "2424b56e-e9c3-4812-9164-dde2118c80d8"
      },
      "execution_count": 26,
      "outputs": [
        {
          "output_type": "stream",
          "name": "stdout",
          "text": [
            "    Actual Carbon  Predicted Carbon\n",
            "0        3.753918          3.305187\n",
            "1        1.207889          1.387898\n",
            "2        2.414188          2.504758\n",
            "3        5.345058          4.573160\n",
            "4        5.030955          4.109646\n",
            "5        0.219490          0.253405\n",
            "6        3.207504          3.927193\n",
            "7        0.394477          0.250367\n",
            "8        0.706166          0.596854\n",
            "9        7.031554          7.453116\n",
            "10       0.252477          0.226820\n",
            "11       0.910742          0.816400\n",
            "12       0.529596          0.557125\n",
            "13       0.208919          0.219428\n",
            "14       2.639057          2.804379\n",
            "15       0.696031          0.740763\n",
            "16       5.857052          7.275446\n",
            "17       3.314152          3.325462\n",
            "18       0.423149          0.493242\n",
            "19       0.405053          0.319384\n"
          ]
        }
      ]
    }
  ]
}