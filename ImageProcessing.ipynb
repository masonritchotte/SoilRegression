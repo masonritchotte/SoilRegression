{
  "nbformat": 4,
  "nbformat_minor": 0,
  "metadata": {
    "colab": {
      "provenance": [],
      "authorship_tag": "ABX9TyM2kbds8JCvS3D6bE7mxxpG",
      "include_colab_link": true
    },
    "kernelspec": {
      "name": "python3",
      "display_name": "Python 3"
    },
    "language_info": {
      "name": "python"
    }
  },
  "cells": [
    {
      "cell_type": "markdown",
      "metadata": {
        "id": "view-in-github",
        "colab_type": "text"
      },
      "source": [
        "<a href=\"https://colab.research.google.com/github/masonritchotte/SoilRegression/blob/3-finalsetup/ImageProcessing.ipynb\" target=\"_parent\"><img src=\"https://colab.research.google.com/assets/colab-badge.svg\" alt=\"Open In Colab\"/></a>"
      ]
    },
    {
      "cell_type": "markdown",
      "source": [
        "# Initializing Values and Data for Models"
      ],
      "metadata": {
        "id": "TGid2BuS4y0R"
      }
    },
    {
      "cell_type": "code",
      "execution_count": 1,
      "metadata": {
        "id": "oiDcSBVi0OGa"
      },
      "outputs": [],
      "source": [
        "# Import necessary libraries\n",
        "import numpy as np\n",
        "import pandas as pd\n",
        "import cv2\n",
        "import matplotlib.pyplot as plt\n",
        "from sklearn.linear_model import LinearRegression\n",
        "from sklearn.svm import SVR\n",
        "from sklearn.model_selection import train_test_split, RandomizedSearchCV\n",
        "from sklearn.metrics import mean_squared_error\n",
        "from sklearn.model_selection import GridSearchCV\n",
        "from sklearn.ensemble import RandomForestRegressor\n",
        "from sklearn.multioutput import MultiOutputRegressor\n",
        "from google.colab import files\n",
        "import os\n",
        "import zipfile\n",
        "from PIL import Image\n",
        "import shutil\n",
        "\n",
        "\n",
        "os.environ['KAGGLE_CONFIG_DIR'] = \"/content\""
      ]
    },
    {
      "cell_type": "markdown",
      "source": [
        "Use Kaggle to download dataset directly into runtime"
      ],
      "metadata": {
        "id": "nNzyTnCN5AhW"
      }
    },
    {
      "cell_type": "code",
      "source": [
        "!kaggle datasets download -d bnneett/soilstuffpp"
      ],
      "metadata": {
        "colab": {
          "base_uri": "https://localhost:8080/"
        },
        "id": "vu-YHbRnG4x6",
        "outputId": "68a9b237-28c0-4509-c682-4a938547672d"
      },
      "execution_count": 3,
      "outputs": [
        {
          "output_type": "stream",
          "name": "stdout",
          "text": [
            "Warning: Your Kaggle API key is readable by other users on this system! To fix this, you can run 'chmod 600 /content/kaggle.json'\n",
            "Downloading soilstuffpp.zip to /content\n",
            " 92% 118M/129M [00:01<00:00, 76.0MB/s]\n",
            "100% 129M/129M [00:01<00:00, 83.8MB/s]\n"
          ]
        }
      ]
    },
    {
      "cell_type": "markdown",
      "source": [
        "Extract files from zipped dataset"
      ],
      "metadata": {
        "id": "8Lm9XdP-5Eqa"
      }
    },
    {
      "cell_type": "code",
      "source": [
        "zip_ref = zipfile.ZipFile('soilstuffpp.zip', 'r') #Opens the zip file in read mode\n",
        "zip_ref.extractall('/content/') #Extracts the files into the /tmp folder\n",
        "zip_ref.close()"
      ],
      "metadata": {
        "id": "Q2I99lBpHDaN"
      },
      "execution_count": 12,
      "outputs": []
    },
    {
      "cell_type": "markdown",
      "source": [
        "# Data Intake (Carbon & Nitrogen Concentration)"
      ],
      "metadata": {
        "id": "ki3qq1VH5R1o"
      }
    },
    {
      "cell_type": "code",
      "source": [
        "# Replace path with the path to your actual text file for carbon data\n",
        "carbon_data_file_path = '/content/carbondata.txt'\n",
        "\n",
        "# Initialize an empty list to store the carbon data\n",
        "carbon_data = []\n",
        "\n",
        "# Open the file and read the lines\n",
        "with open(carbon_data_file_path, 'r') as file:\n",
        "    for line in file:\n",
        "        # Convert each line to a float and append to the list\n",
        "        # You might need to adjust the conversion depending on the format of your numbers\n",
        "        carbon_data.append(float(line.strip()))\n",
        "\n",
        "print(carbon_data)  # This will print out the list of carbon data\n"
      ],
      "metadata": {
        "colab": {
          "base_uri": "https://localhost:8080/"
        },
        "id": "qdDt10rJX7go",
        "outputId": "2a933ac5-a15f-4c93-fedf-b9d966fbebe3"
      },
      "execution_count": 46,
      "outputs": [
        {
          "output_type": "stream",
          "name": "stdout",
          "text": [
            "[7.031554344, 3.964311551, 4.056773071, 0.9126810004, 0.6960307436, 0.2506006665, 0.0, 3.237992445, 2.337853183, 2.343648841, 0.7061660351, 0.6086380768, 0.4231493666, 0.2130257449, 3.335775061, 2.496328928, 2.193573979, 0.6180469716, 0.252476742, 0.1667946308, 0.1376720901, 3.909415971, 3.20750435, 2.886914159, 0.7854783647, 0.459141842, 0.2700636943, 4.732968162, 3.208573464, 3.190376569, 0.9107418752, 0.4050530366, 0.2483817552, 0.2089194685, 2.805161836, 1.793886891, 1.664405246, 0.6572029443, 0.2751137737, 0.2194896205, 0.2060262683, 6.721915285, 1.737633704, 0.8082622362, 5.030954708, 5.345057977, 1.565592414, 0.5872953286, 0.3538600054, 0.2766272189, 10.77628316, 6.469539688, 4.543040603, 1.207888611, 0.4921092822, 0.2789907812, 0.2752313941, 10.14722681, 6.609356507, 5.189678813, 0.9488408491, 0.475505136, 8.747855918, 2.805649042, 1.719393259, 0.4983455734, 0.3550038114, 0.2271657491, 0.2410333532, 8.877070976, 2.414188239, 1.5943154, 0.7772972091, 0.5295955986, 0.3411564026, 19.45659489, 5.857052498, 3.314152209, 0.8958345108, 0.5215159458, 0.3944773176, 0.2822045153, 9.251728345, 3.753917667, 3.130043319, 1.056321996, 0.7265447511, 0.4708119767, 3.792445631, 1.829307158, 2.639056832, 0.683836736, 0.3280168522, 0.3030831625, 0.2093861679, 5.884748524, 3.938851398, 3.14162539, 0.7950299765, 0.5284997626]\n"
          ]
        }
      ]
    },
    {
      "cell_type": "code",
      "source": [
        "# Replace path with the path to your actual text file for nitrogen data\n",
        "nitrogen_data_file_path = '/content/nitrogendata.txt'\n",
        "\n",
        "# Initialize an empty list to store the carbon data\n",
        "nitrogen_data = []\n",
        "\n",
        "# Open the file and read the lines\n",
        "with open(nitrogen_data_file_path, 'r') as file:\n",
        "    for line in file:\n",
        "        # Convert each line to a float and append to the list\n",
        "        # You might need to adjust the conversion depending on the format of your numbers\n",
        "        nitrogen_data.append(float(line.strip()))\n",
        "\n",
        "print(nitrogen_data)  # This will print out the list of nitrogen data\n"
      ],
      "metadata": {
        "colab": {
          "base_uri": "https://localhost:8080/"
        },
        "id": "evF2Z04nxYmB",
        "outputId": "8a4d8f2e-effa-4bc6-d96c-3b4e39930c47"
      },
      "execution_count": 34,
      "outputs": [
        {
          "output_type": "stream",
          "name": "stdout",
          "text": [
            "[0.5064277367, 0.2845430432, 0.2990918484, 0.07313149042, 0.04837279299, 0.01291756013, 0.0, 0.2482460874, 0.1736690936, 0.1683283698, 0.04018831094, 0.03565243965, 0.02580179064, 0.0, 0.264833493, 0.2019089574, 0.1586671956, 0.04377832715, 0.0, 0.0, 0.0, 0.3098927294, 0.2269460625, 0.216518562, 0.05273529657, 0.02732987155, 0.0, 0.3680246491, 0.242828466, 0.2428272564, 0.05963190849, 0.01518948887, 0.0, 0.0, 0.1903955997, 0.1389342923, 0.1085481682, 0.04468980021, 0.01285578382, 0.0, 0.0, 0.3766951281, 0.09425843203, 0.04490345757, 0.3193222548, 0.3276003276, 0.07384869879, 0.02905347915, 0.01884461567, 0.01035502959, 0.6312467123, 0.3512635001, 0.2172548641, 0.07466947775, 0.02121160699, 0.008664309974, 0.0, 0.6155603503, 0.355073818, 0.2700793618, 0.05624572043, 0.02963088385, 0.5844609618, 0.198156827, 0.1342931995, 0.03228149463, 0.01306762496, 0.0, 0.0, 0.5931683371, 0.1823011615, 0.1224099839, 0.06120450465, 0.03742725078, 0.01372468286, 1.043068641, 0.4111321948, 0.2379613205, 0.06499745662, 0.0245740498, 0.0, 0.0, 0.6303375356, 0.25354791, 0.2081032872, 0.07057323681, 0.05173538475, 0.02551197903, 0.2975963373, 0.1402256358, 0.1904474002, 0.04778618155, 0.0150466446, 0.01308272644, 0.01259465672, 0.4683363877, 0.3029885691, 0.2384883508, 0.06299417847, 0.03922459175]\n"
          ]
        }
      ]
    },
    {
      "cell_type": "code",
      "source": [
        "# Replace 'your_carbon_data.txt' with the path to your actual text file\n",
        "mgc02_data_file_path = '/content/mgc02pergram.txt'  # Update with your file path\n",
        "\n",
        "# Initialize an empty list to store the carbon data\n",
        "mgc02_data = []\n",
        "\n",
        "# Open the file and read the lines\n",
        "with open(mgc02_data_file_path, 'r') as file:\n",
        "    for line in file:\n",
        "        # Convert each line to a float and append to the list\n",
        "        # You might need to adjust the conversion depending on the format of your numbers\n",
        "        mgc02_data.append(float(line.strip()))\n",
        "\n",
        "print(mgc02_data)  # This will print out the list of carbon data\n"
      ],
      "metadata": {
        "colab": {
          "base_uri": "https://localhost:8080/"
        },
        "id": "tCmOW4GC2-gl",
        "outputId": "e1b8d939-97be-4241-8473-6bb65506f646"
      },
      "execution_count": 39,
      "outputs": [
        {
          "output_type": "stream",
          "name": "stdout",
          "text": [
            "[2.675623389, 1.832589458, 0.9009793016, 0.1385681896, 0.2149792223, 0.07365937413, 0.4228454808, 2.122576515, 0.8976664342, 0.5406540947, 0.2334875784, 0.1838275553, 0.4367109439, 0.1781878888, 2.098350307, 1.293886733, 0.577776445, 0.8486912144, 0.2328482368, 0.06133386948, 0.04299799028, 1.953824827, 0.8533061973, 0.8651955978, 0.1230602169, 0.09819780664, 0.0676459196, 2.523714617, 0.9617914546, 0.725765017, 0.2886143675, 0.03686461938, 0.0, 0.0, 1.574383702, 0.655553702, 0.4471356295, 0.1717006091, 0.01228759306, 0.0, 0.04294654959, 1.90824409, 0.3739688797, 0.03679482089, 1.660565785, 1.697043241, 0.3374035376, 0.1535489245, 0.0, 0.0, 2.798637489, 1.193505105, 0.4121281066, 0.0, 0.006139505956, 0.0, 0.0, 3.494135853, 1.117613082, 0.854158268, 0.03066082305, 0.006136138992, 3.634118837, 1.050065039, 0.3492549672, 0.06738330852, 0.05537709759, 0.01230294641, 0.0, 3.41615162, 0.718071461, 0.1658080156, 0.04299369885, 0.006149014583, 0.1165982669, 5.230167199, 2.33810209, 0.920971834, 0.3194774196, 0.1907147332, 0.1104780415, 0.04286961891, 3.763689754, 1.005925588, 0.6566978319, 0.2703135539, 0.1778859507, 0.2269127016, 2.849327108, 0.9068374587, 0.8212599626, 0.1285896614, 0.04901092121, 0.01228514008, 0.0, 2.551107582, 1.391793336, 0.0, 0.0, 0.6373640538]\n"
          ]
        }
      ]
    },
    {
      "cell_type": "code",
      "source": [
        "# Directory where the images are located\n",
        "image_directory = '/content/pp/'  # Replace with the directory containing your images\n",
        "\n",
        "# Get a list of filenames in the directory and sort them alphanumerically\n",
        "filenames = sorted(os.listdir(image_directory))\n",
        "\n",
        "# Loop through the sorted filenames\n",
        "for i, filename in enumerate(filenames):\n",
        "    # Construct the new filename\n",
        "    new_filename = f\"{i+1}_pp.jpg\"\n",
        "\n",
        "    # Rename the file\n",
        "    old_filepath = os.path.join(image_directory, filename)\n",
        "    new_filepath = os.path.join(image_directory, new_filename)\n",
        "    os.rename(old_filepath, new_filepath)\n",
        "\n",
        "# Load images\n",
        "images = {}\n",
        "for filename in os.listdir(image_directory):\n",
        "    image_path = os.path.join(image_directory, filename)\n",
        "    if os.path.isfile(image_path):\n",
        "        image = cv2.imread(image_path)\n",
        "        images[filename] = cv2.cvtColor(image, cv2.COLOR_BGR2RGB)"
      ],
      "metadata": {
        "id": "s0o1ljtg565i"
      },
      "execution_count": 14,
      "outputs": []
    },
    {
      "cell_type": "code",
      "source": [
        "def extract_median_rgb(image, center, radius):\n",
        "    \"\"\"\n",
        "    Extract the median RGB values from the center circle of the image.\n",
        "    :param image: Input image\n",
        "    :param center: Center coordinates of the circle\n",
        "    :param radius: Radius of the circle\n",
        "    :return: Median RGB values\n",
        "    \"\"\"\n",
        "    mask = np.zeros(image.shape[:2], dtype=\"uint8\")\n",
        "    cv2.circle(mask, center, radius, 255, -1)\n",
        "    masked = cv2.bitwise_and(image, image, mask=mask)\n",
        "    median_rgb = [np.median(masked[:,:,i][mask==255]) for i in range(3)]\n",
        "    #mask_colored = cv2.cvtColor(mask, cv2.COLOR_GRAY2BGR)\n",
        "\n",
        "    # Create an image that shows the mask as a semi-transparent overlay on the original image\n",
        "    #overlay = cv2.addWeighted(image, 0.7, mask_colored, 0.3, 0)\n",
        "\n",
        "    return median_rgb#, overlay\n",
        "\n",
        "# Example usage (you need to define the center and radius as per your image)\n",
        "# center = (x, y)  # Replace with the center of your circle\n",
        "# radius = r  # Replace with the radius of your circle\n",
        "# median_rgbs = [extract_median_rgb(image, center, radius) for image in images.values()]\n"
      ],
      "metadata": {
        "id": "z5gTOQRU6EMw"
      },
      "execution_count": 18,
      "outputs": []
    },
    {
      "cell_type": "code",
      "source": [
        "centerpoint = (1530, 1300)\n",
        "radius = 250 # 135\n",
        "median_rgbs = [extract_median_rgb(image, centerpoint, radius) for image in images.values()]\n",
        "\n",
        "# These lines are for determining how the mask is affecting the images\n",
        "#for i, (filename, image) in enumerate(images.items()):\n",
        "#    median_rgb, overlay_image = extract_median_rgb(image, centerpoint, radius)\n",
        "#    plt.figure(figsize=(10, 10))\n",
        "#    plt.imshow(cv2.cvtColor(overlay_image, cv2.COLOR_BGR2RGB))\n",
        "#    plt.title(f\"Overlay for {filename}\")\n",
        "#    plt.show()\n",
        "\n",
        "# Create a DataFrame\n",
        "df = pd.DataFrame(median_rgbs, columns=['Red', 'Green', 'Blue'])\n",
        "df['Nitrogen'] = nitrogen_data\n",
        "df['mgCO2'] = mgc02_data\n",
        "df['Carbon'] = carbon_data"
      ],
      "metadata": {
        "id": "DLVmXSBb6JLU"
      },
      "execution_count": 40,
      "outputs": []
    },
    {
      "cell_type": "markdown",
      "source": [
        "# Random Search using Random Forest"
      ],
      "metadata": {
        "id": "6cRfQ-Gr4Q9Y"
      }
    },
    {
      "cell_type": "code",
      "source": [
        "# Split the data into training and testing sets\n",
        "X_train, X_test, y_train, y_test = train_test_split(df[['Red', 'Green', 'Blue', 'mgCO2', 'Nitrogen']], df['Carbon'], test_size=0.2, random_state=42)\n",
        "\n",
        "# Hyperparameter grid to sample from during fitting\n",
        "random_grid = {\n",
        "    'n_estimators': [int(x) for x in np.linspace(start=200, stop=2000, num=10)],\n",
        "    'max_features': ['auto', 'sqrt'],\n",
        "    'max_depth': [int(x) for x in np.linspace(10, 110, num=11)] + [None],\n",
        "    'min_samples_split': [2, 5, 10],\n",
        "    'min_samples_leaf': [1, 2, 4],\n",
        "    'bootstrap': [True, False]\n",
        "}\n",
        "\n",
        "# Initialize the Random Forest Regressor\n",
        "rf = RandomForestRegressor()\n",
        "\n",
        "# Random search of parameters\n",
        "rf_random = RandomizedSearchCV(estimator=rf, param_distributions=random_grid,\n",
        "                               n_iter=70, cv=2, verbose=2, random_state=42, n_jobs=-1)\n",
        "\n",
        "# Fit the random search model\n",
        "rf_random.fit(X_train, y_train)\n",
        "\n",
        "# Get the best model\n",
        "best_random = rf_random.best_estimator_\n",
        "\n",
        "# Predictions on the test set using the best model\n",
        "predictions = best_random.predict(X_test)\n",
        "\n",
        "# Evaluate the model on the test set\n",
        "mse_test = mean_squared_error(y_test, predictions)\n",
        "print(f\"Test Mean Squared Error with best random model: {mse_test}\")\n",
        "\n",
        "# Display the best hyperparameters\n",
        "print(f\"Best hyperparameters: {rf_random.best_params_}\")\n",
        "\n",
        "# Display actual vs predicted values for each point in the test set using the best model\n",
        "comparison_df = pd.DataFrame({'Actual Carbon': y_test, 'Predicted Carbon': predictions})\n",
        "comparison_df = comparison_df.reset_index(drop=True)\n",
        "print(comparison_df)"
      ],
      "metadata": {
        "colab": {
          "base_uri": "https://localhost:8080/"
        },
        "id": "ns_jMnhisnnj",
        "outputId": "1cfe32eb-c1ff-4687-fdd9-0bde62635c9a"
      },
      "execution_count": 33,
      "outputs": [
        {
          "output_type": "stream",
          "name": "stdout",
          "text": [
            "Fitting 2 folds for each of 70 candidates, totalling 140 fits\n"
          ]
        },
        {
          "output_type": "stream",
          "name": "stderr",
          "text": [
            "/usr/local/lib/python3.10/dist-packages/sklearn/ensemble/_forest.py:413: FutureWarning: `max_features='auto'` has been deprecated in 1.1 and will be removed in 1.3. To keep the past behaviour, explicitly set `max_features=1.0` or remove this parameter as it is also the default value for RandomForestRegressors and ExtraTreesRegressors.\n",
            "  warn(\n"
          ]
        },
        {
          "output_type": "stream",
          "name": "stdout",
          "text": [
            "Test Mean Squared Error with best random model: 0.14466425611761452\n",
            "Best hyperparameters: {'n_estimators': 1400, 'min_samples_split': 2, 'min_samples_leaf': 1, 'max_features': 'auto', 'max_depth': 100, 'bootstrap': True}\n",
            "    Actual Carbon  Predicted Carbon\n",
            "0        3.753918          3.360213\n",
            "1        1.207889          1.387381\n",
            "2        2.414188          2.521813\n",
            "3        5.345058          4.648686\n",
            "4        5.030955          4.129449\n",
            "5        0.219490          0.246696\n",
            "6        3.207504          3.913026\n",
            "7        0.394477          0.244356\n",
            "8        0.706166          0.588653\n",
            "9        7.031554          7.225529\n",
            "10       0.252477          0.226966\n",
            "11       0.910742          0.814800\n",
            "12       0.529596          0.556725\n",
            "13       0.208919          0.220295\n",
            "14       2.639057          2.780169\n",
            "15       0.696031          0.762513\n",
            "16       5.857052          6.736255\n",
            "17       3.314152          3.377801\n",
            "18       0.423149          0.492107\n",
            "19       0.405053          0.318432\n"
          ]
        }
      ]
    },
    {
      "cell_type": "markdown",
      "source": [
        "# Random Forest Alone"
      ],
      "metadata": {
        "id": "f6kJD_DW4a2b"
      }
    },
    {
      "cell_type": "code",
      "source": [
        "# Split the data into features and target\n",
        "X_train, X_test, y_train, y_test = train_test_split(df[['Red', 'Green', 'Blue', 'Nitrogen']], df['Carbon'], test_size=0.3, random_state=42)\n",
        "\n",
        "# Init range of hyperparameters for grid search\n",
        "parameters = {\n",
        "    'kernel': ['rbf'],\n",
        "    'C': [1e2, 1e3, 1e4, 1e5],\n",
        "    'gamma': [0.001, 0.0001],\n",
        "    'epsilon': [0.1, 0.2, 0.3, 0.5]\n",
        "}\n",
        "\n",
        "#svr = SVR()\n",
        "\n",
        "# Initialize Grid Search with cross-validation\n",
        "#grid_search = GridSearchCV(svr, parameters, cv=5, scoring='neg_mean_squared_error')\n",
        "\n",
        "# Fit Grid Search on the training data\n",
        "#grid_search.fit(X_train, y_train)\n",
        "\n",
        "# Get the best model\n",
        "#best_model = grid_search.best_estimator_\n",
        "\n",
        "random_forest_model = RandomForestRegressor(n_estimators=100, random_state=42)\n",
        "random_forest_model.fit(X_train, y_train)\n",
        "\n",
        "predictions = random_forest_model.predict(X_test)\n",
        "\n",
        "mse_test = mean_squared_error(y_test, predictions)\n",
        "\n",
        "print(f\"Test Mean Squared Error with best model: {mse_test}\")\n",
        "\n",
        "# Display the best hyperparameters\n",
        "#print(f\"Best hyperparameters: {grid_search.best_params_}\")\n",
        "\n",
        "# View a single prediction\n",
        "# For example, we can predict the carbon content for the first test sample\n",
        "# single_prediction = model.predict(X_test.iloc[[0]])\n",
        "# print(f\"Actual carbon content for first test sample: {y_test.iloc[0]}\")\n",
        "# print(f\"Predicted carbon content for first test sample: {single_prediction[0]}\")\n",
        "comparison_df = pd.DataFrame({'Actual Carbon': y_test, 'Predicted Carbon': predictions})\n",
        "comparison_df = comparison_df.reset_index(drop=True)\n",
        "print(comparison_df)"
      ],
      "metadata": {
        "id": "jWjO9qiT6MY0",
        "colab": {
          "base_uri": "https://localhost:8080/"
        },
        "outputId": "75dadaf9-8cb4-430a-cb49-dd42206f51da"
      },
      "execution_count": 45,
      "outputs": [
        {
          "output_type": "stream",
          "name": "stdout",
          "text": [
            "Test Mean Squared Error with best model: 0.09549464999472194\n",
            "    Actual Carbon  Predicted Carbon\n",
            "0        3.753918          3.403073\n",
            "1        1.207889          1.388217\n",
            "2        2.414188          2.776285\n",
            "3        5.345058          4.808837\n",
            "4        5.030955          4.505649\n",
            "5        0.219490          0.228459\n",
            "6        3.207504          3.850800\n",
            "7        0.394477          0.218253\n",
            "8        0.706166          0.594485\n",
            "9        7.031554          7.088297\n",
            "10       0.252477          0.224854\n",
            "11       0.910742          0.877341\n",
            "12       0.529596          0.572564\n",
            "13       0.208919          0.194989\n",
            "14       2.639057          2.761748\n",
            "15       0.696031          0.755816\n",
            "16       5.857052          6.358054\n",
            "17       3.314152          3.494950\n",
            "18       0.423149          0.494956\n",
            "19       0.405053          0.312894\n",
            "20       0.278991          0.249508\n",
            "21       3.792446          4.214872\n",
            "22       0.270064          0.216662\n",
            "23       1.737634          1.553366\n",
            "24       8.877071          9.657074\n",
            "25       2.496329          3.042040\n",
            "26       0.206026          0.225940\n",
            "27       3.938851          4.232132\n",
            "28       2.343649          2.452610\n",
            "29       0.777297          0.893418\n"
          ]
        }
      ]
    },
    {
      "cell_type": "markdown",
      "source": [
        "# Random Forest Multi Output Regressor"
      ],
      "metadata": {
        "id": "XYOPbuHa4hL7"
      }
    },
    {
      "cell_type": "code",
      "source": [
        "from sklearn.multioutput import MultiOutputRegressor\n",
        "\n",
        "# Multi-output target\n",
        "y = df[['Carbon', 'Nitrogen']]\n",
        "\n",
        "# Train/test split remains the same\n",
        "X_train, X_test, y_train, y_test = train_test_split(df[['Red', 'Green', 'Blue']], y, test_size=0.2, random_state=42)\n",
        "\n",
        "# Multi-output model\n",
        "multi_output_model = MultiOutputRegressor(RandomForestRegressor(n_estimators=100, random_state=42))\n",
        "\n",
        "# Fit the model\n",
        "multi_output_model.fit(X_train, y_train)\n",
        "\n",
        "# Predictions on the test set\n",
        "predictions = multi_output_model.predict(X_test)\n",
        "\n",
        "# You can evaluate each target separately\n",
        "mse_test_carbon = mean_squared_error(y_test['Carbon'], predictions[:, 0])\n",
        "mse_test_nitrogen = mean_squared_error(y_test['Nitrogen'], predictions[:, 1])\n",
        "\n",
        "print(f\"Test Mean Squared Error for Carbon: {mse_test_carbon}\")\n",
        "print(f\"Test Mean Squared Error for Nitrogen: {mse_test_nitrogen}\")\n",
        "\n",
        "comparison_df = pd.DataFrame({\n",
        "    'Actual Carbon': y_test['Carbon'],\n",
        "    'Predicted Carbon': predictions[:, 0],\n",
        "    'Actual Nitrogen': y_test['Nitrogen'],\n",
        "    'Predicted Nitrogen': predictions[:, 1]\n",
        "})\n",
        "\n",
        "# Reset the index of the DataFrame for better visualization\n",
        "comparison_df.reset_index(drop=True, inplace=True)\n",
        "\n",
        "# Display the comparison DataFrame\n",
        "print(comparison_df)\n"
      ],
      "metadata": {
        "colab": {
          "base_uri": "https://localhost:8080/"
        },
        "id": "Qo1D7UOM0E4P",
        "outputId": "d46dda13-02d3-49c7-dce1-6d9bfa93e88e"
      },
      "execution_count": 31,
      "outputs": [
        {
          "output_type": "stream",
          "name": "stdout",
          "text": [
            "Test Mean Squared Error for Carbon: 12.187635747036973\n",
            "Test Mean Squared Error for Nitrogen: 0.05038677449811626\n",
            "    Actual Carbon  Predicted Carbon  Actual Nitrogen  Predicted Nitrogen\n",
            "0        3.753918          2.649720         0.253548            0.146930\n",
            "1        1.207889          0.880892         0.074669            0.047836\n",
            "2        2.414188          0.986716         0.182301            0.077899\n",
            "3        5.345058          3.354053         0.327600            0.206363\n",
            "4        5.030955          0.524148         0.319322            0.040052\n",
            "5        0.219490          3.018922         0.000000            0.189341\n",
            "6        3.207504          0.586993         0.226946            0.044046\n",
            "7        0.394477          2.783721         0.000000            0.205569\n",
            "8        0.706166          1.736205         0.040188            0.141804\n",
            "9        7.031554          2.051100         0.506428            0.126313\n",
            "10       0.252477          1.233133         0.000000            0.084531\n",
            "11       0.910742          2.839600         0.059632            0.127361\n",
            "12       0.529596          2.978460         0.037427            0.218340\n",
            "13       0.208919          1.486764         0.000000            0.102329\n",
            "14       2.639057          2.755373         0.190447            0.216434\n",
            "15       0.696031          2.410212         0.048373            0.181670\n",
            "16       5.857052          1.314492         0.411132            0.075439\n",
            "17       3.314152         13.082227         0.237961            0.735376\n",
            "18       0.423149          2.010021         0.025802            0.142997\n",
            "19       0.405053          6.405295         0.015189            0.437637\n"
          ]
        }
      ]
    }
  ]
}